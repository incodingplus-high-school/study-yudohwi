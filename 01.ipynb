{
 "cells": [
  {
   "cell_type": "code",
   "execution_count": 41,
   "metadata": {},
   "outputs": [],
   "source": [
    "\n",
    "inp = int(input())\n",
    "inp_10 = str(inp)\n",
    "a = ''\n",
    "for i in range(len(inp_10)-1,-1,-1):\n",
    "    a += inp_10[i]\n",
    "if inp_10 == a:\n",
    "    \n",
    "    inp_2 = str(bin(inp)[2:])\n",
    "    b = ''\n",
    "    for i in range(len(inp_10)-1,-1,-1):\n",
    "        b += inp_10[i]\n",
    "    if inp_10 == b:\n",
    "\n",
    "        inp_8 = str(oct(inp)[2:])\n",
    "        c = ''\n",
    "        for i in range(len(inp_8)-1,-1,-1):\n",
    "            c += inp_8[i]\n",
    "        if inp_8 == c:\n",
    "            print(inp)\n",
    "11 22 33 44 55 66 77 88 99 101 111 121 131 141 151 161 171 181 191\n",
    "1011 10110 "
   ]
  },
  {
   "cell_type": "code",
   "execution_count": 42,
   "metadata": {},
   "outputs": [
    {
     "name": "stdout",
     "output_type": "stream",
     "text": [
      "0o444\n"
     ]
    }
   ],
   "source": []
  }
 ],
 "metadata": {
  "kernelspec": {
   "display_name": "Python 3",
   "language": "python",
   "name": "python3"
  },
  "language_info": {
   "codemirror_mode": {
    "name": "ipython",
    "version": 3
   },
   "file_extension": ".py",
   "mimetype": "text/x-python",
   "name": "python",
   "nbconvert_exporter": "python",
   "pygments_lexer": "ipython3",
   "version": "3.11.1 (tags/v3.11.1:a7a450f, Dec  6 2022, 19:58:39) [MSC v.1934 64 bit (AMD64)]"
  },
  "orig_nbformat": 4,
  "vscode": {
   "interpreter": {
    "hash": "1d42a4fd88a2ab5ba2a93520124d60f637055456e509916308a043028a67e448"
   }
  }
 },
 "nbformat": 4,
 "nbformat_minor": 2
}
